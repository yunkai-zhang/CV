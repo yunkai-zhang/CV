{
 "cells": [
  {
   "cell_type": "markdown",
   "metadata": {},
   "source": [
    "# 1. 文本预处理\n",
    "\n",
    "- 老师：文本预处理核心：怎么把数据变成能训练的东西"
   ]
  },
  {
   "cell_type": "code",
   "execution_count": 1,
   "metadata": {},
   "outputs": [],
   "source": [
    "import collections\n",
    "import re\n",
    "# d2l是李沐写的，用于加载本项目的包，可以从项目官方github下载\n",
    "from d2l import torch as d2l"
   ]
  },
  {
   "cell_type": "markdown",
   "metadata": {},
   "source": [
    "① 将数据集读取到由文本行组成的列表中。"
   ]
  },
  {
   "cell_type": "code",
   "execution_count": 2,
   "metadata": {},
   "outputs": [
    {
     "name": "stdout",
     "output_type": "stream",
     "text": [
      "the time machine by h g wells\n",
      "twinkled and his usually pale face was flushed and animated the\n"
     ]
    }
   ],
   "source": [
    "d2l.DATA_HUB['time_machine'] = (d2l.DATA_URL + 'timemachine.txt',\n",
    "                               '090b5e7e70c295757f55df93cb0a180b9691891a')  \n",
    "\n",
    "def read_time_machine():\n",
    "    \"\"\"Load the time machine dataset into a list of text lines. \"\"\"\n",
    "    with open(d2l.download('time_machine'), 'r') as f:\n",
    "        lines = f.readlines()\n",
    "        '''\n",
    "        # 把不是大写字母、小写字母的东西，全部变成空格\n",
    "        1，stripe可以去掉首尾空格\n",
    "        2，lower是吧所有英文字符转化为小写\n",
    "        '''\n",
    "    return [re.sub('[^A-Za-z]+',' ',line).strip().lower() for line in lines]   \n",
    "\n",
    "lines = read_time_machine()\n",
    "print(lines[0])\n",
    "print(lines[10])"
   ]
  },
  {
   "cell_type": "markdown",
   "metadata": {},
   "source": [
    "② 每个文本序列又被拆分成一个标记列表。"
   ]
  },
  {
   "cell_type": "code",
   "execution_count": 5,
   "metadata": {},
   "outputs": [
    {
     "name": "stdout",
     "output_type": "stream",
     "text": [
      "['the', 'time', 'machine', 'by', 'h', 'g', 'wells']\n",
      "[]\n",
      "[]\n",
      "[]\n",
      "[]\n",
      "['i']\n",
      "[]\n",
      "[]\n",
      "['the', 'time', 'traveller', 'for', 'so', 'it', 'will', 'be', 'convenient', 'to', 'speak', 'of', 'him']\n",
      "['was', 'expounding', 'a', 'recondite', 'matter', 'to', 'us', 'his', 'grey', 'eyes', 'shone', 'and']\n",
      "['twinkled', 'and', 'his', 'usually', 'pale', 'face', 'was', 'flushed', 'and', 'animated', 'the']\n"
     ]
    }
   ],
   "source": [
    "# 把多行列表的一行切割为词元：词元可以是字符，也可以是词语；\n",
    "def tokenize(lines, token='word'):\n",
    "    if token == 'word':\n",
    "        '''\n",
    "        # 这里用了python列表生成式\n",
    "        1，每一行切割后是一个列表；所有行组合在一起（用中括号包裹就是生成列表），得到一个二维列表\n",
    "        '''\n",
    "        return [line.split() for line in lines]\n",
    "    elif token == 'char':\n",
    "        return [list(line) for line in lines]\n",
    "    else:\n",
    "        print('错位：未知令牌类型：' + token)\n",
    "        \n",
    "tokens = tokenize(lines)\n",
    "# 打印前10行切割后的效果\n",
    "for i in range(11):\n",
    "    print(tokens[i]) # 为空的表示空行"
   ]
  },
  {
   "cell_type": "markdown",
   "metadata": {},
   "source": [
    "- 老师：可以看打印的结果，第一行是title\n",
    "    - 网友：空的是段落之间的空行"
   ]
  },
  {
   "cell_type": "markdown",
   "metadata": {},
   "source": [
    "③ 构建一个字典，通常也叫做词表（vocabulary），用来你将字符串标记映射到从0开始的数字索引中。\n",
    "\n",
    "- 老师：需要把每个token映射到数字"
   ]
  },
  {
   "cell_type": "code",
   "execution_count": 7,
   "metadata": {},
   "outputs": [],
   "source": [
    "class Vocab:\n",
    "    \"\"\"文本词表\"\"\"\n",
    "    '''\n",
    "    # 参数讲解\n",
    "    1，tokens=None：允许不输入Tokens\n",
    "    2，min_freq=0：词频太低的话，当做不认识就好\n",
    "    3，reserved_tokens：告诉句子开始或结束的token\n",
    "    '''\n",
    "    def __init__(self, tokens=None,min_freq=0,reserved_tokens=None):\n",
    "        '''\n",
    "        # 没有传入参数的话就给个空列表，保证函数不报错\n",
    "        1，网友问：直接参数里写[]不好吗...\n",
    "        - 网友答：参数里写 [] 是不规范的\n",
    "        '''\n",
    "        if tokens is None:\n",
    "            tokens = []\n",
    "        if reserved_tokens is None:\n",
    "            reserved_tokens = []\n",
    "        counter = count_corpus(tokens) # 遍历得到每一个独一无二token出现的次数\n",
    "        # token计数后，按照词频降序排列，这个也被保存下来以备查询使用\n",
    "        self.token_freqs = sorted(counter.items(),key=lambda x:x[1],reverse=True)\n",
    "        # unknown token的下标记为0；unknown token和reserved tokens一起放到uniq_tokens中\n",
    "        self.unk, uniq_tokens = 0, ['<unk>'] + reserved_tokens \n",
    "        # 把常规token也加入uniquetokens中\n",
    "        uniq_tokens += [token for token, freq in self.token_freqs\n",
    "                       if freq >= min_freq and token not in uniq_tokens]\n",
    "        # 这里处理token和indexoftoken的互相翻译\n",
    "        self.idx_to_token, self.token_to_idx = [], dict()\n",
    "        for token in uniq_tokens:\n",
    "            self.idx_to_token.append(token)\n",
    "            self.token_to_idx[token] = len(self.idx_to_token) - 1\n",
    "            \n",
    "    # vocab类实例化对象的长度，就是uniquetokens的长度\n",
    "    def __len__(self):\n",
    "        return len(self.idx_to_token)\n",
    "    \n",
    "    # 给一个或一组token，把它们的index返回\n",
    "    def __getitem__(self, tokens):\n",
    "        if not isinstance(tokens, (list, tuple)):\n",
    "            return self.token_to_idx.get(tokens, self.unk)\n",
    "        return [self.__getitem__(token) for token in tokens]\n",
    "    \n",
    "    # 给index，返回token；和__getitem__互为反函数\n",
    "    def to_tokens(self, indices):\n",
    "        if not isinstance(indices, (list, tuple)):\n",
    "            return self.idx_to_token[indices]\n",
    "        return [self.idx_to_token[index] for index in indices]\n",
    "    \n",
    "def count_corpus(tokens):\n",
    "    \"\"\"统计标记的频率\"\"\"\n",
    "    if len(tokens) == 0 or isinstance(tokens[0], list):\n",
    "        tokens = [token for line in tokens for token in line]\n",
    "    # Counter作用：给一堆token，看每个独一无二的token出现的次数\n",
    "    return collections.Counter(tokens) "
   ]
  },
  {
   "cell_type": "markdown",
   "metadata": {},
   "source": [
    "④ 构建词汇表"
   ]
  },
  {
   "cell_type": "code",
   "execution_count": 9,
   "metadata": {},
   "outputs": [
    {
     "name": "stdout",
     "output_type": "stream",
     "text": [
      "[('<unk>', 0), ('the', 1), ('i', 2), ('and', 3), ('of', 4), ('a', 5), ('to', 6), ('was', 7), ('in', 8), ('that', 9)]\n"
     ]
    }
   ],
   "source": [
    "# tokens会被Vocab类的init函数接收\n",
    "vocab = Vocab(tokens)\n",
    "# 打印最经常出现的10个token：注意这token_to_idx.items是字典，所以要包裹一层list变为列表后展示；字典的每一个item是元组，参考http://t.csdn.cn/63Ad5\n",
    "print(list(vocab.token_to_idx.items())[:10])"
   ]
  },
  {
   "cell_type": "markdown",
   "metadata": {},
   "source": [
    "- 网友：python3.6以后字典有顺序了，所以我们可以看到item是按照出现次数的顺序打印的"
   ]
  },
  {
   "cell_type": "markdown",
   "metadata": {},
   "source": [
    "④ 将每一行文本转换成一个数字索引列表。"
   ]
  },
  {
   "cell_type": "code",
   "execution_count": 13,
   "metadata": {},
   "outputs": [
    {
     "name": "stdout",
     "output_type": "stream",
     "text": [
      "current i: 0\n",
      "word: ['the', 'time', 'machine', 'by', 'h', 'g', 'wells']\n",
      "indices: [1, 19, 50, 40, 2183, 2184, 400]\n",
      "current i: 10\n",
      "word: ['twinkled', 'and', 'his', 'usually', 'pale', 'face', 'was', 'flushed', 'and', 'animated', 'the']\n",
      "indices: [2186, 3, 25, 1044, 362, 113, 7, 1421, 3, 1045, 1]\n"
     ]
    }
   ],
   "source": [
    "#打印第0行和第10行：这里不是range，而是列表，所以只取0和10\n",
    "for i in [0,10]:\n",
    "    print('current i:',i)\n",
    "    print('word:', tokens[i])\n",
    "    print('indices:',vocab[tokens[i]])"
   ]
  },
  {
   "cell_type": "markdown",
   "metadata": {},
   "source": [
    "⑤ 将所有内容打包到load_corpus_time_machine函数中。"
   ]
  },
  {
   "cell_type": "code",
   "execution_count": 14,
   "metadata": {},
   "outputs": [
    {
     "data": {
      "text/plain": [
       "(170580, 28)"
      ]
     },
     "execution_count": 14,
     "metadata": {},
     "output_type": "execute_result"
    }
   ],
   "source": [
    "def load_corpus_time_machine(max_tokens=-1):\n",
    "    \"\"\"返回时光机器数据集的标记索引列表和词汇表\"\"\"\n",
    "    lines = read_time_machine()\n",
    "    tokens = tokenize(lines, 'char')\n",
    "    vocab = Vocab(tokens)\n",
    "    '''\n",
    "    # 把整个文本，从token格式（字符），转化为index的形式\n",
    "    1，这里的一行可以展开为如下：\n",
    "    for line in tokens：（换行）\n",
    "    for token in line：（换行）\n",
    "    vorpus.append(vocab[token])\n",
    "    '''\n",
    "    corpus = [vocab[token] for line in tokens for token in line]  \n",
    "    if max_tokens > 0:\n",
    "        corpus = corpus[:max_tokens]\n",
    "    return corpus, vocab\n",
    "\n",
    "corpus, vocab = load_corpus_time_machine()\n",
    "len(corpus), len(vocab)"
   ]
  },
  {
   "cell_type": "markdown",
   "metadata": {},
   "source": [
    "- 老师：可以看到整个文本被转化为index后得到corpus，总共有170580个字符\n",
    "- 老师：vocab包含了“char和index的互相转换”；vocab对象能得到长度是因为Vocab类里重写了`__len__`\n",
    "- 老师：文本预处理，就是把文本转为“int形向量，时序序列”"
   ]
  },
  {
   "cell_type": "code",
   "execution_count": null,
   "metadata": {},
   "outputs": [],
   "source": []
  }
 ],
 "metadata": {
  "kernelspec": {
   "display_name": "Python [conda env:pytorch_env] *",
   "language": "python",
   "name": "conda-env-pytorch_env-py"
  },
  "language_info": {
   "codemirror_mode": {
    "name": "ipython",
    "version": 3
   },
   "file_extension": ".py",
   "mimetype": "text/x-python",
   "name": "python",
   "nbconvert_exporter": "python",
   "pygments_lexer": "ipython3",
   "version": "3.6.13"
  },
  "toc": {
   "base_numbering": 1,
   "nav_menu": {},
   "number_sections": false,
   "sideBar": true,
   "skip_h1_title": false,
   "title_cell": "Table of Contents",
   "title_sidebar": "Contents",
   "toc_cell": false,
   "toc_position": {
    "height": "2041.23px",
    "left": "45.9792px",
    "top": "56px",
    "width": "301.875px"
   },
   "toc_section_display": true,
   "toc_window_display": true
  }
 },
 "nbformat": 4,
 "nbformat_minor": 4
}
